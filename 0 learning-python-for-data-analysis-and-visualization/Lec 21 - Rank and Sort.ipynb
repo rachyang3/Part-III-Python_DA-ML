{
 "cells": [
  {
   "cell_type": "code",
   "execution_count": 1,
   "id": "69b881f2",
   "metadata": {},
   "outputs": [],
   "source": [
    "import numpy as np\n",
    "from pandas import Series,DataFrame\n",
    "import pandas as pd"
   ]
  },
  {
   "cell_type": "code",
   "execution_count": 4,
   "id": "6677f2af",
   "metadata": {},
   "outputs": [
    {
     "data": {
      "text/plain": [
       "C    0\n",
       "A    1\n",
       "B    2\n",
       "dtype: int64"
      ]
     },
     "execution_count": 4,
     "metadata": {},
     "output_type": "execute_result"
    }
   ],
   "source": [
    "#Sorting by index\n",
    "ser1 = Series(range(3),index=['C','A','B'])\n",
    "\n",
    "#show\n",
    "ser1"
   ]
  },
  {
   "cell_type": "code",
   "execution_count": 5,
   "id": "f901d9bb",
   "metadata": {},
   "outputs": [
    {
     "data": {
      "text/plain": [
       "A    1\n",
       "B    2\n",
       "C    0\n",
       "dtype: int64"
      ]
     },
     "execution_count": 5,
     "metadata": {},
     "output_type": "execute_result"
    }
   ],
   "source": [
    "#Now sort_index\n",
    "ser1.sort_index()"
   ]
  },
  {
   "cell_type": "code",
   "execution_count": 6,
   "id": "178979d9",
   "metadata": {},
   "outputs": [
    {
     "data": {
      "text/plain": [
       "C    0\n",
       "A    1\n",
       "B    2\n",
       "dtype: int64"
      ]
     },
     "execution_count": 6,
     "metadata": {},
     "output_type": "execute_result"
    }
   ],
   "source": [
    "#Can sort a Series by its values\n",
    "ser1.order()"
   ]
  },
  {
   "cell_type": "code",
   "execution_count": 10,
   "id": "68d6e44f",
   "metadata": {},
   "outputs": [
    {
     "data": {
      "text/plain": [
       "0    0.524553\n",
       "1   -1.987343\n",
       "2   -0.883902\n",
       "3   -0.875829\n",
       "4    0.216089\n",
       "5    0.744837\n",
       "6   -0.761465\n",
       "7    0.792798\n",
       "8   -0.144650\n",
       "9    0.100972\n",
       "dtype: float64"
      ]
     },
     "execution_count": 10,
     "metadata": {},
     "output_type": "execute_result"
    }
   ],
   "source": [
    "#Lets see how ranking works\n",
    "\n",
    "from numpy.random import randn\n",
    "ser2 = Series(randn(10))\n",
    "\n",
    "#Show\n",
    "ser2"
   ]
  },
  {
   "cell_type": "code",
   "execution_count": 11,
   "id": "5fedfc08",
   "metadata": {},
   "outputs": [
    {
     "data": {
      "text/plain": [
       "0     8\n",
       "1     1\n",
       "2     2\n",
       "3     3\n",
       "4     7\n",
       "5     9\n",
       "6     4\n",
       "7    10\n",
       "8     5\n",
       "9     6\n",
       "dtype: float64"
      ]
     },
     "execution_count": 11,
     "metadata": {},
     "output_type": "execute_result"
    }
   ],
   "source": [
    "#This will show you the rank used if you sort the series\n",
    "ser2.rank()"
   ]
  },
  {
   "cell_type": "code",
   "execution_count": 13,
   "id": "74d654e2",
   "metadata": {},
   "outputs": [
    {
     "data": {
      "text/plain": [
       "1   -1.987343\n",
       "2   -0.883902\n",
       "3   -0.875829\n",
       "6   -0.761465\n",
       "8   -0.144650\n",
       "9    0.100972\n",
       "4    0.216089\n",
       "0    0.524553\n",
       "5    0.744837\n",
       "7    0.792798\n",
       "dtype: float64"
      ]
     },
     "execution_count": 13,
     "metadata": {},
     "output_type": "execute_result"
    }
   ],
   "source": [
    "#Lets sort it now\n",
    "ser2.sort()\n",
    "\n",
    "#Show\n",
    "ser2"
   ]
  },
  {
   "cell_type": "code",
   "execution_count": 15,
   "id": "f4ea8ca0",
   "metadata": {},
   "outputs": [
    {
     "data": {
      "text/plain": [
       "1     1\n",
       "2     2\n",
       "3     3\n",
       "6     4\n",
       "8     5\n",
       "9     6\n",
       "4     7\n",
       "0     8\n",
       "5     9\n",
       "7    10\n",
       "dtype: float64"
      ]
     },
     "execution_count": 15,
     "metadata": {},
     "output_type": "execute_result"
    }
   ],
   "source": [
    "#After sorting let's check the rank and see iof it makes sense\n",
    "ser2.rank()"
   ]
  },
  {
   "cell_type": "code",
   "execution_count": 16,
   "id": "53e16b30",
   "metadata": {},
   "outputs": [],
   "source": [
    "#On the left column we see th original index value and on the right we see it's rank!"
   ]
  },
  {
   "cell_type": "code",
   "execution_count": null,
   "id": "e2c4a8d2",
   "metadata": {},
   "outputs": [],
   "source": [
    "#Next we'll learn about using descriptive statistics on dataframes!"
   ]
  }
 ],
 "metadata": {
  "kernelspec": {
   "display_name": "Python 3 (ipykernel)",
   "language": "python",
   "name": "python3"
  },
  "language_info": {
   "codemirror_mode": {
    "name": "ipython",
    "version": 3
   },
   "file_extension": ".py",
   "mimetype": "text/x-python",
   "name": "python",
   "nbconvert_exporter": "python",
   "pygments_lexer": "ipython3",
   "version": "3.9.13"
  }
 },
 "nbformat": 4,
 "nbformat_minor": 1
}
