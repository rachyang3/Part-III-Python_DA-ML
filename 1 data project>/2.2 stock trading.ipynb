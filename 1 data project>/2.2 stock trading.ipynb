{
 "cells": [
  {
   "cell_type": "markdown",
   "metadata": {},
   "source": [
    "### 数据来源\n",
    "1、第三方数据接口<br>\n",
    "    .http://tushare.org/trading.html#id3<br>\n",
    "2、证券网站的交易明细数据<br>\n",
    "    . http://quote.eastmoney.com/f1.html?code=600728&market=1<br>\n",
    "    . http://vip.stock.finance.sina.com.cn/quotes_service/view/vMS_tradedetail.php?symbol=sz300044&date=2017-05-12&page=1"
   ]
  },
  {
   "cell_type": "code",
   "execution_count": 13,
   "metadata": {},
   "outputs": [],
   "source": [
    "#coding=utf-8\n",
    "import tushare as ts   #需要lxml等包的支持\n",
    "import talib\n",
    "import os,time,sys,re,datetime\n",
    "import pandas as pd\n",
    "import numpy as np\n",
    "\n",
    "import datetime as dt"
   ]
  },
  {
   "cell_type": "markdown",
   "metadata": {
    "collapsed": true
   },
   "source": [
    "#### 网络数据库postgresql的使用"
   ]
  },
  {
   "cell_type": "code",
   "execution_count": 14,
   "metadata": {},
   "outputs": [
    {
     "name": "stdout",
     "output_type": "stream",
     "text": [
      "      ts_code trade_date   open   high    low  close  pre_close  change  \\\n",
      "0   600728.SH   20190416  11.15  11.75  11.08  11.69      11.30    0.39   \n",
      "1   600728.SH   20190415  11.59  11.82  11.26  11.30      11.30    0.00   \n",
      "2   600728.SH   20190412  11.20  11.57  11.20  11.30      11.19    0.11   \n",
      "3   600728.SH   20190411  11.70  11.77  11.12  11.19      11.59   -0.40   \n",
      "4   600728.SH   20190410  11.77  11.77  11.24  11.59      11.76   -0.17   \n",
      "5   600728.SH   20190409  11.84  12.15  11.66  11.76      11.84   -0.08   \n",
      "6   600728.SH   20190408  12.26  12.37  11.58  11.84      12.38   -0.54   \n",
      "7   600728.SH   20190404  12.75  12.92  12.35  12.38      12.78   -0.40   \n",
      "8   600728.SH   20190403  12.68  13.06  12.61  12.78      12.85   -0.07   \n",
      "9   600728.SH   20190402  12.72  13.45  12.60  12.85      12.65    0.20   \n",
      "10  600728.SH   20190401  12.37  12.80  12.25  12.65      12.22    0.43   \n",
      "\n",
      "    pct_chg         vol       amount  \n",
      "0    3.4513   427840.42   492634.526  \n",
      "1    0.0000   445302.60   515447.283  \n",
      "2    0.9830   354701.80   403353.920  \n",
      "3   -3.4513   461470.89   524978.826  \n",
      "4   -1.4456   501787.09   578317.048  \n",
      "5   -0.6757   465878.30   551994.595  \n",
      "6   -4.3619   827695.12   987643.490  \n",
      "7   -3.1299   688628.17   863465.076  \n",
      "8   -0.5447   595345.76   760684.875  \n",
      "9    1.5810  1037668.78  1354271.928  \n",
      "10   3.5188   764361.93   958825.117  \n"
     ]
    }
   ],
   "source": [
    "pro = ts.pro_api('6cbb7738f458c6366abd8601dc143cf493649fb97a7e6b4f43966902')\n",
    "df = pro.daily(ts_code='600728.sh', start_date='20190401', end_date='20190416')\n",
    "print(df)"
   ]
  },
  {
   "cell_type": "code",
   "execution_count": 15,
   "metadata": {},
   "outputs": [
    {
     "name": "stdout",
     "output_type": "stream",
     "text": [
      "Requirement already satisfied: sqlalchemy in /anaconda3/lib/python3.7/site-packages (1.2.15)\r\n"
     ]
    }
   ],
   "source": [
    "!pip install sqlalchemy"
   ]
  },
  {
   "cell_type": "raw",
   "metadata": {
    "collapsed": true
   },
   "source": [
    "import sqlalchemy      #需要PyGreSQL、psycopg2等包的支持\n",
    "from sqlalchemy import create_engine\n",
    "try:\n",
    "    engine = create_engine('postgresql://' + 'postgres' + ':' + 'wang.' + '@localhost:5432/' + 'stock')\n",
    "    c = engine.connect()\n",
    "    conn = c.connection\n",
    "except Exception as e:\n",
    "    print('engine err!')"
   ]
  },
  {
   "cell_type": "markdown",
   "metadata": {},
   "source": [
    "#### 桌面数据库access的使用\n",
    "https://blog.csdn.net/growth_path_/article/details/80748734"
   ]
  },
  {
   "cell_type": "code",
   "execution_count": 16,
   "metadata": {},
   "outputs": [
    {
     "data": {
      "text/plain": [
       "[]"
      ]
     },
     "execution_count": 16,
     "metadata": {},
     "output_type": "execute_result"
    }
   ],
   "source": [
    "import pyodbc  \n",
    "[x for x in pyodbc.drivers() if x.startswith('Microsoft Access Driver')]"
   ]
  },
  {
   "cell_type": "code",
   "execution_count": 17,
   "metadata": {},
   "outputs": [
    {
     "name": "stdout",
     "output_type": "stream",
     "text": [
      "engine err!\n"
     ]
    }
   ],
   "source": [
    "DBfile = r\".\\data\\stock.mdb\"  # 数据库文件  \n",
    "try:\n",
    "    conn = pyodbc.connect(r'DRIVER={Microsoft Access Driver (*.mdb, *.accdb)};DBQ=.\\data\\stock.mdb')\n",
    "    cur = conn.cursor()\n",
    "except Exception as e:\n",
    "     print('engine err!')"
   ]
  },
  {
   "cell_type": "code",
   "execution_count": 18,
   "metadata": {},
   "outputs": [],
   "source": [
    "#创建数据库表   可以在access中创建，也可用cur.execute('CREATE TABLE xxx()')来创建 "
   ]
  },
  {
   "cell_type": "code",
   "execution_count": 19,
   "metadata": {},
   "outputs": [],
   "source": [
    "pro = ts.pro_api('6cbb7738f458c6366abd8601dc143cf493649fb97a7e6b4f43966902')\n"
   ]
  },
  {
   "cell_type": "markdown",
   "metadata": {},
   "source": [
    "#### 自定义数据获取、处理与存储函数"
   ]
  },
  {
   "cell_type": "code",
   "execution_count": 20,
   "metadata": {},
   "outputs": [],
   "source": [
    "#1、首先是获取沪深两市的股票列表\n",
    "def Get_Stock_List():\n",
    "    df = ts.get_stock_basics()\n",
    "    df=df.sort_index() \n",
    "    #先只筛选某行业数据\n",
    "    df=df[df['industry']=='电气设备']\n",
    "    return df\n",
    "          \n",
    "#2）、获取1年交易数据，并保存\n",
    "def Get_Stock_Trade(Code):\n",
    "    df = None\n",
    "    try:\n",
    "            df = ts.get_hist_data(code, start='2018-01-01', end_date='2019-04-01',retry_count=5, pause=0.01)\n",
    "            #df = pro.daily(Code, start_date='20190401', end_date='20190416')\n",
    "\n",
    "    except Exception as e:\n",
    "            print(code,'err',)\n",
    "    return df\n",
    "\n",
    "# 3)获取构造均价、均量、MACD数据\n",
    "def Make_Full_stock(code):\n",
    "    df =None\n",
    "    try:\n",
    "        df = Get_Stock_Trade(code)\n",
    "    except Exception as e:\n",
    "        print(code + 'trade err!')\n",
    "        return df\n",
    " \n",
    "    if not(df is None):\n",
    "    \n",
    "        # 构造成交价和成交量均线,根据具体情况构造n日均价，n日均线\n",
    "        dfma25 = df['close'].rolling(min_periods=1, window=25, center=False).mean()   # 25日均价\n",
    "        dfvol60 =df['volume'].rolling(min_periods=1, window=60, center=False).mean()  # 60日均量\n",
    " \n",
    "      \n",
    "        # 构造MACD值，psmacd DIFF；psmacdsignal DEA；psmacdhist DIFF-DEA\n",
    "        # http://www.lfd.uci.edu/~gohlke/pythonlibs/ 下载安装 TA-Lib\n",
    "        psmacd, psmacdsignal, psmacdhist = ta.MACD(np.array(df['close']), fastperiod=12, slowperiod=26, signalperiod=9)\n",
    "        \n",
    "        ##下面构造合并的df\n",
    "        df['25']=dfma25\n",
    "        \n",
    "    return df\n",
    "\n",
    "#4) 构造增加数据的Insert语句，以便将处理过某标的交易数据加入数据库\n",
    "def Make_Sql(df,code):\n",
    "    sqls = []\n",
    "    print (df.iterrows())\n",
    "\n",
    "    for tdate,row in df.iterrows():    #iter迭代的应用，要支持迭代\n",
    "        #Open,high,low,close,volume,amount,,,,,, = row[1:n]\n",
    "       \n",
    "        sql = \"insert into _trade(code,trade_date,open,high,low,close,volume,ma5,ma10,ma20,vol5) \\\n",
    "        values('%s','%s','%.2f','%.2f','%.2f','%.2f','%d','%.3f','%.3f','%.3f','%d')\" \\\n",
    "        % (code, tdate, row['open'], row['high'], row['low'],row['close'],row['volume'],\\\n",
    "           row['ma5'],row['ma10'],row['ma20'],row['v_ma5'])\n",
    "        \n",
    "        sqls.append(sql)\n",
    " \n",
    "    return sqls\n",
    "\n",
    "\n",
    "# 5) 将处理过某标的交易数据加入数据库\n",
    "def Insert_Stock_Trade(sqls, engine):\n",
    "    try:\n",
    "        for insert_sql in sqls:\n",
    "            engine.execute(insert_sql)\n",
    "            #print(insert_sql)\n",
    "        engine.commit()\n",
    "        print('Insert data over!')\n",
    "    except Exception as e:\n",
    "        print('sql err!')\n",
    "\n",
    "#6) 构造各函数调用逻辑，完成程序功能\n",
    "def Output_DB(df):\n",
    "   #循环处理Get_Stock_List()获得的标的\n",
    "    pass\n"
   ]
  },
  {
   "cell_type": "code",
   "execution_count": 21,
   "metadata": {},
   "outputs": [
    {
     "name": "stdout",
     "output_type": "stream",
     "text": [
      "600628 err\n"
     ]
    }
   ],
   "source": [
    "Make_Full_stock('000049')"
   ]
  },
  {
   "cell_type": "markdown",
   "metadata": {},
   "source": [
    "#### 测试自定义函数"
   ]
  },
  {
   "cell_type": "code",
   "execution_count": 12,
   "metadata": {},
   "outputs": [
    {
     "data": {
      "text/html": [
       "<div>\n",
       "<style scoped>\n",
       "    .dataframe tbody tr th:only-of-type {\n",
       "        vertical-align: middle;\n",
       "    }\n",
       "\n",
       "    .dataframe tbody tr th {\n",
       "        vertical-align: top;\n",
       "    }\n",
       "\n",
       "    .dataframe thead th {\n",
       "        text-align: right;\n",
       "    }\n",
       "</style>\n",
       "<table border=\"1\" class=\"dataframe\">\n",
       "  <thead>\n",
       "    <tr style=\"text-align: right;\">\n",
       "      <th></th>\n",
       "      <th>name</th>\n",
       "      <th>industry</th>\n",
       "      <th>area</th>\n",
       "      <th>pe</th>\n",
       "      <th>outstanding</th>\n",
       "      <th>totals</th>\n",
       "      <th>totalAssets</th>\n",
       "      <th>liquidAssets</th>\n",
       "      <th>fixedAssets</th>\n",
       "      <th>reserved</th>\n",
       "      <th>...</th>\n",
       "      <th>bvps</th>\n",
       "      <th>pb</th>\n",
       "      <th>timeToMarket</th>\n",
       "      <th>undp</th>\n",
       "      <th>perundp</th>\n",
       "      <th>rev</th>\n",
       "      <th>profit</th>\n",
       "      <th>gpr</th>\n",
       "      <th>npr</th>\n",
       "      <th>holders</th>\n",
       "    </tr>\n",
       "    <tr>\n",
       "      <th>code</th>\n",
       "      <th></th>\n",
       "      <th></th>\n",
       "      <th></th>\n",
       "      <th></th>\n",
       "      <th></th>\n",
       "      <th></th>\n",
       "      <th></th>\n",
       "      <th></th>\n",
       "      <th></th>\n",
       "      <th></th>\n",
       "      <th></th>\n",
       "      <th></th>\n",
       "      <th></th>\n",
       "      <th></th>\n",
       "      <th></th>\n",
       "      <th></th>\n",
       "      <th></th>\n",
       "      <th></th>\n",
       "      <th></th>\n",
       "      <th></th>\n",
       "      <th></th>\n",
       "    </tr>\n",
       "  </thead>\n",
       "  <tbody>\n",
       "    <tr>\n",
       "      <th>000049</th>\n",
       "      <td>德赛电池</td>\n",
       "      <td>电气设备</td>\n",
       "      <td>深圳</td>\n",
       "      <td>17.46</td>\n",
       "      <td>2.05</td>\n",
       "      <td>2.05</td>\n",
       "      <td>942736.88</td>\n",
       "      <td>812170.00</td>\n",
       "      <td>67714.49</td>\n",
       "      <td>572.70</td>\n",
       "      <td>...</td>\n",
       "      <td>7.92</td>\n",
       "      <td>3.93</td>\n",
       "      <td>19950320</td>\n",
       "      <td>135080.63</td>\n",
       "      <td>6.58</td>\n",
       "      <td>50.19</td>\n",
       "      <td>47.38</td>\n",
       "      <td>8.16</td>\n",
       "      <td>2.35</td>\n",
       "      <td>26861.0</td>\n",
       "    </tr>\n",
       "    <tr>\n",
       "      <th>000400</th>\n",
       "      <td>许继电气</td>\n",
       "      <td>电气设备</td>\n",
       "      <td>河南</td>\n",
       "      <td>97.82</td>\n",
       "      <td>10.08</td>\n",
       "      <td>10.08</td>\n",
       "      <td>1431907.00</td>\n",
       "      <td>1202498.13</td>\n",
       "      <td>118774.85</td>\n",
       "      <td>83409.42</td>\n",
       "      <td>...</td>\n",
       "      <td>7.72</td>\n",
       "      <td>1.27</td>\n",
       "      <td>19970418</td>\n",
       "      <td>541913.81</td>\n",
       "      <td>5.37</td>\n",
       "      <td>15.39</td>\n",
       "      <td>-9.06</td>\n",
       "      <td>22.12</td>\n",
       "      <td>2.44</td>\n",
       "      <td>70680.0</td>\n",
       "    </tr>\n",
       "    <tr>\n",
       "      <th>000533</th>\n",
       "      <td>顺钠股份</td>\n",
       "      <td>电气设备</td>\n",
       "      <td>广东</td>\n",
       "      <td>0.00</td>\n",
       "      <td>6.85</td>\n",
       "      <td>6.91</td>\n",
       "      <td>377757.34</td>\n",
       "      <td>288739.00</td>\n",
       "      <td>22864.31</td>\n",
       "      <td>4081.43</td>\n",
       "      <td>...</td>\n",
       "      <td>0.93</td>\n",
       "      <td>3.25</td>\n",
       "      <td>19940103</td>\n",
       "      <td>72246.81</td>\n",
       "      <td>1.05</td>\n",
       "      <td>91.80</td>\n",
       "      <td>-191.36</td>\n",
       "      <td>2.57</td>\n",
       "      <td>-0.24</td>\n",
       "      <td>47638.0</td>\n",
       "    </tr>\n",
       "    <tr>\n",
       "      <th>000585</th>\n",
       "      <td>*ST东电</td>\n",
       "      <td>电气设备</td>\n",
       "      <td>海南</td>\n",
       "      <td>145.40</td>\n",
       "      <td>6.09</td>\n",
       "      <td>8.73</td>\n",
       "      <td>50511.34</td>\n",
       "      <td>18313.35</td>\n",
       "      <td>5013.68</td>\n",
       "      <td>107482.86</td>\n",
       "      <td>...</td>\n",
       "      <td>0.01</td>\n",
       "      <td>246.23</td>\n",
       "      <td>19951213</td>\n",
       "      <td>-201915.42</td>\n",
       "      <td>-2.31</td>\n",
       "      <td>-2.04</td>\n",
       "      <td>103.68</td>\n",
       "      <td>17.07</td>\n",
       "      <td>45.17</td>\n",
       "      <td>66700.0</td>\n",
       "    </tr>\n",
       "    <tr>\n",
       "      <th>000682</th>\n",
       "      <td>东方电子</td>\n",
       "      <td>电气设备</td>\n",
       "      <td>山东</td>\n",
       "      <td>41.61</td>\n",
       "      <td>9.78</td>\n",
       "      <td>13.41</td>\n",
       "      <td>515461.34</td>\n",
       "      <td>421455.69</td>\n",
       "      <td>58326.55</td>\n",
       "      <td>119931.77</td>\n",
       "      <td>...</td>\n",
       "      <td>2.25</td>\n",
       "      <td>2.36</td>\n",
       "      <td>19970121</td>\n",
       "      <td>45597.05</td>\n",
       "      <td>0.34</td>\n",
       "      <td>12.33</td>\n",
       "      <td>169.38</td>\n",
       "      <td>32.37</td>\n",
       "      <td>5.62</td>\n",
       "      <td>114800.0</td>\n",
       "    </tr>\n",
       "  </tbody>\n",
       "</table>\n",
       "<p>5 rows × 22 columns</p>\n",
       "</div>"
      ],
      "text/plain": [
       "         name industry area      pe  outstanding  totals  totalAssets  \\\n",
       "code                                                                    \n",
       "000049   德赛电池     电气设备   深圳   17.46         2.05    2.05    942736.88   \n",
       "000400   许继电气     电气设备   河南   97.82        10.08   10.08   1431907.00   \n",
       "000533   顺钠股份     电气设备   广东    0.00         6.85    6.91    377757.34   \n",
       "000585  *ST东电     电气设备   海南  145.40         6.09    8.73     50511.34   \n",
       "000682   东方电子     电气设备   山东   41.61         9.78   13.41    515461.34   \n",
       "\n",
       "        liquidAssets  fixedAssets   reserved    ...     bvps      pb  \\\n",
       "code                                            ...                    \n",
       "000049     812170.00     67714.49     572.70    ...     7.92    3.93   \n",
       "000400    1202498.13    118774.85   83409.42    ...     7.72    1.27   \n",
       "000533     288739.00     22864.31    4081.43    ...     0.93    3.25   \n",
       "000585      18313.35      5013.68  107482.86    ...     0.01  246.23   \n",
       "000682     421455.69     58326.55  119931.77    ...     2.25    2.36   \n",
       "\n",
       "        timeToMarket       undp  perundp    rev  profit    gpr    npr  \\\n",
       "code                                                                    \n",
       "000049      19950320  135080.63     6.58  50.19   47.38   8.16   2.35   \n",
       "000400      19970418  541913.81     5.37  15.39   -9.06  22.12   2.44   \n",
       "000533      19940103   72246.81     1.05  91.80 -191.36   2.57  -0.24   \n",
       "000585      19951213 -201915.42    -2.31  -2.04  103.68  17.07  45.17   \n",
       "000682      19970121   45597.05     0.34  12.33  169.38  32.37   5.62   \n",
       "\n",
       "         holders  \n",
       "code              \n",
       "000049   26861.0  \n",
       "000400   70680.0  \n",
       "000533   47638.0  \n",
       "000585   66700.0  \n",
       "000682  114800.0  \n",
       "\n",
       "[5 rows x 22 columns]"
      ]
     },
     "execution_count": 12,
     "metadata": {},
     "output_type": "execute_result"
    }
   ],
   "source": [
    "df = Get_Stock_List()    \n",
    "df.head()"
   ]
  },
  {
   "cell_type": "code",
   "execution_count": 12,
   "metadata": {},
   "outputs": [
    {
     "name": "stdout",
     "output_type": "stream",
     "text": [
      "600628 err\n",
      "None\n"
     ]
    },
    {
     "ename": "AttributeError",
     "evalue": "'NoneType' object has no attribute 'head'",
     "output_type": "error",
     "traceback": [
      "\u001b[0;31m---------------------------------------------------------------------------\u001b[0m",
      "\u001b[0;31mAttributeError\u001b[0m                            Traceback (most recent call last)",
      "\u001b[0;32m<ipython-input-12-9380fb8e5aaf>\u001b[0m in \u001b[0;36m<module>\u001b[0;34m\u001b[0m\n\u001b[1;32m      2\u001b[0m \u001b[0mdf1\u001b[0m\u001b[0;34m=\u001b[0m\u001b[0mGet_Stock_Trade\u001b[0m\u001b[0;34m(\u001b[0m\u001b[0mcode\u001b[0m\u001b[0;34m)\u001b[0m\u001b[0;34m\u001b[0m\u001b[0;34m\u001b[0m\u001b[0m\n\u001b[1;32m      3\u001b[0m \u001b[0mprint\u001b[0m\u001b[0;34m(\u001b[0m\u001b[0mdf1\u001b[0m\u001b[0;34m)\u001b[0m\u001b[0;34m\u001b[0m\u001b[0;34m\u001b[0m\u001b[0m\n\u001b[0;32m----> 4\u001b[0;31m \u001b[0mdf1\u001b[0m\u001b[0;34m.\u001b[0m\u001b[0mhead\u001b[0m\u001b[0;34m(\u001b[0m\u001b[0;34m)\u001b[0m\u001b[0;34m\u001b[0m\u001b[0;34m\u001b[0m\u001b[0m\n\u001b[0m",
      "\u001b[0;31mAttributeError\u001b[0m: 'NoneType' object has no attribute 'head'"
     ]
    }
   ],
   "source": [
    "code='600628'\n",
    "df1=Get_Stock_Trade(code)\n",
    "print(df1)\n",
    "df1.head()"
   ]
  },
  {
   "cell_type": "code",
   "execution_count": null,
   "metadata": {},
   "outputs": [],
   "source": [
    "df1.shape\n"
   ]
  },
  {
   "cell_type": "code",
   "execution_count": 53,
   "metadata": {},
   "outputs": [
    {
     "name": "stdout",
     "output_type": "stream",
     "text": [
      "<generator object DataFrame.iterrows at 0x11f70f2a0>\n",
      "[\"insert into _trade(code,trade_date,open,high,low,close,volume,ma5,ma10,ma20,vol5)         values('600728','2019-04-23','11.16','11.28','10.98','11.14','256858','11.264','11.339','11.812','331192')\", \"insert into _trade(code,trade_date,open,high,low,close,volume,ma5,ma10,ma20,vol5)         values('600728','2019-04-22','11.28','11.46','11.11','11.16','353846','11.374','11.401','11.906','365389')\", \"insert into _trade(code,trade_date,open,high,low,close,volume,ma5,ma10,ma20,vol5)         values('600728','2019-04-19','11.18','11.30','11.05','11.26','270979','11.402','11.469','12.030','383680')\"]\n"
     ]
    }
   ],
   "source": [
    "sqls=Make_Sql(df1,code)\n",
    "print(sqls[:3])"
   ]
  },
  {
   "cell_type": "code",
   "execution_count": 55,
   "metadata": {},
   "outputs": [
    {
     "ename": "NameError",
     "evalue": "name 'cur' is not defined",
     "output_type": "error",
     "traceback": [
      "\u001b[0;31m---------------------------------------------------------------------------\u001b[0m",
      "\u001b[0;31mNameError\u001b[0m                                 Traceback (most recent call last)",
      "\u001b[0;32m<ipython-input-55-e5e4e5ee6dfb>\u001b[0m in \u001b[0;36m<module>\u001b[0;34m\u001b[0m\n\u001b[0;32m----> 1\u001b[0;31m \u001b[0mInsert_Stock_Trade\u001b[0m\u001b[0;34m(\u001b[0m\u001b[0msqls\u001b[0m\u001b[0;34m,\u001b[0m \u001b[0mcur\u001b[0m\u001b[0;34m)\u001b[0m\u001b[0;34m\u001b[0m\u001b[0;34m\u001b[0m\u001b[0m\n\u001b[0m",
      "\u001b[0;31mNameError\u001b[0m: name 'cur' is not defined"
     ]
    }
   ],
   "source": [
    "Insert_Stock_Trade(sqls, cur)"
   ]
  },
  {
   "cell_type": "raw",
   "metadata": {},
   "source": [
    "### 创建数据库表\n",
    "**access**\n",
    "create table _trade( id Counter not null, code Text(6), name Text(10), trade_date Time, open Single, high Single, close Single, low Single, volume Long, amount Long,ma5 Single,ma10 Single,ma20 Single,ma25 Single,vol5 Long,vol60 Long, macd Single, macdsignal Single, macdhist Single, primary key(id) )\n",
    "CREATE INDEX stock_id_index ON _trade (id); \n",
    "CREATE INDEX stock_code_index ON _trade (code);\n",
    "\n",
    "create table _basic( id Counter not null, code Text(6), name Text(10), industry Text(10), area Text(10), pe Single, outstanding Long, totals Long,totalAssets Single,liquidAssets Single,fixedAssets Single,reserved Single, reservedPerShare Single, esp Single, bvps Single,pb Single,undp Single, perundp Single,rev Single, profit Single,gpr Single, npr Single,holders Long, timeToMarket Time, primary key(id) ); \n",
    "CREATE INDEX basic1_id_index ON _basic (id); \n",
    "CREATE INDEX basic2_id_index ON _basic (code);\n",
    "\n",
    "**postgresql**\n",
    "create table _trade( id serial not null, code varchar(6), name varchar(10), date date, open real, high real, close real, low real, volume bigint, amount bigint,ma5 real,ma10 real,ma20 real,ma25 real,vol5 bigint,vol60 bigint, macd real, macdsignal real, macdhist real, primary key(id) ); CREATE INDEX stock_id_index ON _trade (id); CREATE INDEX stock_code_index ON _trade (code);\n",
    "\n",
    "\n",
    "create table _basic( id serial not null, code varchar(6), name varchar(10), industry varchar(10), area varchar(10), pe real, outstanding bigint, totals bigint,totalAssets real,liquidAssets real,fixedAssets real,reserved real, reservedPerShare real, esp real, bvps real,pb real,undp real, perundp real,rev real, profit real,gpr real, npr real,holders bigint, timeToMarket date, primary key(id) ); CREATE INDEX basic1_id_index ON _basic (id); CREATE INDEX basic2_id_index ON _basic (code);\n"
   ]
  },
  {
   "cell_type": "markdown",
   "metadata": {},
   "source": [
    "###  复权数据获取\n",
    "http://vip.stock.finance.sina.com.cn/corp/go.php/vMS_FuQuanMarketHistory/stockid/000002.phtml?year=2017&jidu=1"
   ]
  }
 ],
 "metadata": {
  "anaconda-cloud": {},
  "kernelspec": {
   "display_name": "Python 3",
   "language": "python",
   "name": "python3"
  },
  "language_info": {
   "codemirror_mode": {
    "name": "ipython",
    "version": 3
   },
   "file_extension": ".py",
   "mimetype": "text/x-python",
   "name": "python",
   "nbconvert_exporter": "python",
   "pygments_lexer": "ipython3",
   "version": "3.7.1"
  }
 },
 "nbformat": 4,
 "nbformat_minor": 1
}
