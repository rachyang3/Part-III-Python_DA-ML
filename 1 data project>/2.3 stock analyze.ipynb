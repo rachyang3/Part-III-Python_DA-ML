{
 "cells": [
  {
   "cell_type": "markdown",
   "metadata": {},
   "source": [
    "### 解析tushare 的trading模块中的get_hist_data函数"
   ]
  },
  {
   "cell_type": "code",
   "execution_count": 1,
   "metadata": {
    "scrolled": true
   },
   "outputs": [],
   "source": [
    "# -*- coding:utf-8 -*- \n",
    "\"\"\"\n",
    "交易数据接口 \n",
    "Created on 2014/07/31\n",
    "@author: Jimmy Liu\n",
    "@group : waditu\n",
    "@contact: jimmysoa@sina.cn\n",
    "\"\"\"\n",
    "from __future__ import division\n",
    "\n",
    "import time\n",
    "import json\n",
    "import lxml.html\n",
    "from lxml import etree\n",
    "import pandas as pd\n",
    "import numpy as np\n",
    "import datetime\n",
    "import tushare\n",
    "from tushare.stock import cons as ct\n",
    "import re\n",
    "from pandas.compat import StringIO\n",
    "from tushare.util import dateu as du\n",
    "from tushare.util.formula import MA\n",
    "import os\n",
    "from tushare.util.conns import get_apis, close_apis\n",
    "from tushare.stock.fundamental import get_stock_basics\n",
    "try:\n",
    "    from urllib.request import urlopen, Request\n",
    "except ImportError:\n",
    "    from urllib2 import urlopen, Request"
   ]
  },
  {
   "cell_type": "code",
   "execution_count": 3,
   "metadata": {},
   "outputs": [],
   "source": [
    "def get_hist_data(code=None, start=None, end=None,\n",
    "                  ktype='D', retry_count=3,\n",
    "                  pause=0.001):\n",
    "    \"\"\"\n",
    "        获取个股历史交易记录\n",
    "    Parameters\n",
    "    ------\n",
    "      code:string\n",
    "                  股票代码 e.g. 600848\n",
    "      start:string\n",
    "                  开始日期 format：YYYY-MM-DD 为空时取到API所提供的最早日期数据\n",
    "      end:string\n",
    "                  结束日期 format：YYYY-MM-DD 为空时取到最近一个交易日数据\n",
    "      ktype：string\n",
    "                  数据类型，D=日k线 W=周 M=月 5=5分钟 15=15分钟 30=30分钟 60=60分钟，默认为D\n",
    "      retry_count : int, 默认 3\n",
    "                 如遇网络等问题重复执行的次数 \n",
    "      pause : int, 默认 0\n",
    "                重复请求数据过程中暂停的秒数，防止请求间隔时间太短出现的问题\n",
    "    return\n",
    "    -------\n",
    "      DataFrame\n",
    "          属性:日期 ，开盘价， 最高价， 收盘价， 最低价， 成交量， 价格变动 ，涨跌幅，5日均价，10日均价，20日均价，5日均量，10日均量，20日均量，换手率\n",
    "    \"\"\"\n",
    "    symbol = ct._code_to_symbol(code)\n",
    "    url = ''\n",
    "    if ktype.upper() in ct.K_LABELS:\n",
    "        url = ct.DAY_PRICE_URL%(ct.P_TYPE['http'], ct.DOMAINS['ifeng'],\n",
    "                                ct.K_TYPE[ktype.upper()], symbol)\n",
    "    elif ktype in ct.K_MIN_LABELS:\n",
    "        url = ct.DAY_PRICE_MIN_URL%(ct.P_TYPE['http'], ct.DOMAINS['ifeng'],\n",
    "                                    symbol, ktype)\n",
    "    else:\n",
    "        raise TypeError('ktype input error.')\n",
    "    \n",
    "    for _ in range(retry_count):\n",
    "        time.sleep(pause)\n",
    "        try:\n",
    "            request = Request(url)\n",
    "            lines = urlopen(request, timeout = 10).read()\n",
    "            if len(lines) < 15: #no data\n",
    "                return None\n",
    "        except Exception as e:\n",
    "            print(e)\n",
    "        else:\n",
    "            js = json.loads(lines.decode('utf-8') if ct.PY3 else lines)\n",
    "            cols = []\n",
    "            if (code in ct.INDEX_LABELS) & (ktype.upper() in ct.K_LABELS):\n",
    "                cols = ct.INX_DAY_PRICE_COLUMNS\n",
    "            else:\n",
    "                cols = ct.DAY_PRICE_COLUMNS\n",
    "            if len(js['record'][0]) == 14:\n",
    "                cols = ct.INX_DAY_PRICE_COLUMNS\n",
    "            df = pd.DataFrame(js['record'], columns=cols)\n",
    "            if ktype.upper() in ['D', 'W', 'M']:\n",
    "                df = df.applymap(lambda x: x.replace(u',', u''))\n",
    "                df[df==''] = 0\n",
    "            for col in cols[1:]:\n",
    "                df[col] = df[col].astype(float)\n",
    "            if start is not None:\n",
    "                df = df[df.date >= start]\n",
    "            if end is not None:\n",
    "                df = df[df.date <= end]\n",
    "            if (code in ct.INDEX_LABELS) & (ktype in ct.K_MIN_LABELS):\n",
    "                df = df.drop('turnover', axis=1)\n",
    "            df = df.set_index('date')\n",
    "            df = df.sort_index(ascending = False)\n",
    "            return df\n",
    "    raise IOError(ct.NETWORK_URL_ERROR_MSG)"
   ]
  },
  {
   "cell_type": "code",
   "execution_count": 4,
   "metadata": {},
   "outputs": [
    {
     "name": "stdout",
     "output_type": "stream",
     "text": [
      "sh603987\n"
     ]
    }
   ],
   "source": [
    "code='603987'\n",
    "start=None\n",
    "end=None,\n",
    "ktype='D'\n",
    "retry_count=3\n",
    "pause=0.001\n",
    "\n",
    "symbol = ct._code_to_symbol(code)\n",
    "print(symbol)"
   ]
  },
  {
   "cell_type": "code",
   "execution_count": 5,
   "metadata": {},
   "outputs": [],
   "source": [
    "url = ''\n",
    "if ktype.upper() in ct.K_LABELS:\n",
    "    url = ct.DAY_PRICE_URL%(ct.P_TYPE['http'], ct.DOMAINS['ifeng'],\n",
    "                                ct.K_TYPE[ktype.upper()], symbol)\n",
    "elif ktype in ct.K_MIN_LABELS:\n",
    "    url = ct.DAY_PRICE_MIN_URL%(ct.P_TYPE['http'], ct.DOMAINS['ifeng'],\n",
    "                                    symbol, ktype)\n",
    "else:\n",
    "    raise TypeError('ktype input error.')"
   ]
  },
  {
   "cell_type": "code",
   "execution_count": 6,
   "metadata": {},
   "outputs": [
    {
     "data": {
      "text/plain": [
       "'http://api.finance.ifeng.com/akdaily/?code=sh603987&type=last'"
      ]
     },
     "execution_count": 6,
     "metadata": {},
     "output_type": "execute_result"
    }
   ],
   "source": [
    "url"
   ]
  },
  {
   "cell_type": "code",
   "execution_count": 7,
   "metadata": {},
   "outputs": [
    {
     "data": {
      "text/plain": [
       "'http://vip.stock.finance.sina.com.cn/api/json.php/BasicStockSrv.getStockFuQuanData?symbol=sh603987&type=hfq'"
      ]
     },
     "execution_count": 7,
     "metadata": {},
     "output_type": "execute_result"
    }
   ],
   "source": [
    "#后复权\n",
    "request = Request(ct.HIST_FQ_FACTOR_URL%(ct.P_TYPE['http'],\n",
    "                                             ct.DOMAINS['vsf'], symbol))\n",
    "ct.HIST_FQ_FACTOR_URL%(ct.P_TYPE['http'],ct.DOMAINS['vsf'], symbol)"
   ]
  },
  {
   "cell_type": "code",
   "execution_count": 8,
   "metadata": {},
   "outputs": [],
   "source": [
    "text = urlopen(request, timeout=10).read()\n",
    "#print(text)"
   ]
  },
  {
   "cell_type": "code",
   "execution_count": 9,
   "metadata": {},
   "outputs": [],
   "source": [
    "text = text.decode(encoding='utf-8')\n",
    "text = text[1:len(text)-1]\n",
    "#text = text.decode('utf-8') if ct.PY3 else text\n",
    "text = text.replace('{_', '{\"')\n",
    "text = text.replace('total', '\"total\"')\n",
    "text = text.replace('data', '\"data\"')\n",
    "text = text.replace(':\"', '\":\"')\n",
    "text = text.replace('\",_', '\",\"')\n",
    "text = text.replace('_', '-')\n",
    "text = json.loads(text)"
   ]
  },
  {
   "cell_type": "raw",
   "metadata": {
    "collapsed": true
   },
   "source": [
    "text = text[1:len(text)-1]\n",
    "text = text.decode('utf-8') if ct.PY3 else text\n",
    "text = text.replace('{_', '{\"')\n",
    "text = text.replace('total', '\"total\"')\n",
    "text = text.replace('data', '\"data\"')\n",
    "text = text.replace(':\"', '\":\"')\n",
    "text = text.replace('\",_', '\",\"')\n",
    "text = text.replace('_', '-')\n",
    "text = json.loads(text)"
   ]
  },
  {
   "cell_type": "code",
   "execution_count": 30,
   "metadata": {},
   "outputs": [],
   "source": [
    "#print(text)"
   ]
  },
  {
   "cell_type": "code",
   "execution_count": 33,
   "metadata": {},
   "outputs": [
    {
     "name": "stdout",
     "output_type": "stream",
     "text": [
      "            date   factor\n",
      "0     2005-05-20   2.5494\n",
      "1     1994-02-03   5.8500\n",
      "2     2003-11-27   7.9225\n",
      "3     2003-02-19   9.1003\n",
      "4     2001-02-21   9.7618\n",
      "5     2003-01-22   9.1003\n",
      "6     2011-07-13  23.3048\n",
      "7     2012-03-05  14.6607\n",
      "8     1998-07-08  11.3915\n",
      "9     1998-04-02  11.2302\n",
      "10    1994-06-16   3.7800\n",
      "11    2004-10-28   4.8729\n",
      "12    2018-07-16  27.6583\n",
      "13    1997-11-12   9.2456\n",
      "14    2001-03-09  10.0522\n",
      "15    2005-08-01   2.5171\n",
      "16    2003-09-19   8.6808\n",
      "17    2013-07-01  10.0721\n",
      "18    1997-09-09  10.3105\n",
      "19    1994-08-08   4.6561\n",
      "20    2017-05-04  22.2387\n",
      "21    1994-10-13   5.7940\n",
      "22    2004-05-26   6.6962\n",
      "23    2009-12-09  27.2266\n",
      "24    2010-01-15  26.4840\n",
      "25    2004-09-01   6.6801\n",
      "26    2018-03-02  28.6245\n",
      "27    2010-09-16  30.9394\n",
      "28    2004-03-19   8.8583\n",
      "29    2006-10-19   5.8833\n",
      "...          ...      ...\n",
      "5776  2006-12-19   5.6168\n",
      "5777  2001-01-09  11.9239\n",
      "5778  2010-04-23  35.4517\n",
      "5779  2009-06-18  15.1555\n",
      "5780  2013-05-20  11.8238\n",
      "5781  1995-07-24   4.6309\n",
      "5782  2002-08-30  11.0849\n",
      "5783  2016-11-01  23.8381\n",
      "5784  2011-12-26  13.7468\n",
      "5785  2004-09-22   6.9382\n",
      "5786  2017-05-05  21.3629\n",
      "5787  2002-12-30   8.0354\n",
      "5788  2012-08-16  13.2898\n",
      "5789  2017-05-08  20.7536\n",
      "5790  2014-10-13  18.4690\n",
      "5791  2004-03-02   7.8418\n",
      "5792  1999-08-06  12.2628\n",
      "5793  2002-09-23   9.7779\n",
      "5794  1996-03-22   3.5982\n",
      "5795  2004-07-09   7.1480\n",
      "5796  2015-02-26  15.8224\n",
      "5797  2017-08-24  25.5507\n",
      "5798  2004-02-06   7.5836\n",
      "5799  2006-12-06   6.0928\n",
      "5800  2000-04-13  11.3430\n",
      "5801  2006-01-25   4.1953\n",
      "5802  2002-12-27   8.0999\n",
      "5803  2014-06-24  12.5284\n",
      "5804  1998-11-10  12.6661\n",
      "5805  2014-05-23  11.6716\n",
      "\n",
      "[5806 rows x 2 columns]\n"
     ]
    }
   ],
   "source": [
    "df = pd.DataFrame({'date':list(text['data'].keys()), 'factor':list(text['data'].values())})\n",
    "print(df)"
   ]
  },
  {
   "cell_type": "code",
   "execution_count": 34,
   "metadata": {},
   "outputs": [
    {
     "name": "stdout",
     "output_type": "stream",
     "text": [
      "[Getting data:]"
     ]
    }
   ],
   "source": [
    "start,end=None,None\n",
    "start = du.today_last_year() if start is None else start\n",
    "end = du.today() if end is None else end\n",
    "qs = du.get_quarts(start, end)\n",
    "qt = qs[0]\n",
    "ct._write_head()\n"
   ]
  },
  {
   "cell_type": "code",
   "execution_count": 35,
   "metadata": {
    "collapsed": true
   },
   "outputs": [],
   "source": [
    "index=False;retry_count=3;pause=0.01\n",
    "url=_get_index_url(index, code, qt)\n",
    "#data = _parse_fq_data(_get_index_url(index, code, qt), index,retry_count, pause)"
   ]
  },
  {
   "cell_type": "code",
   "execution_count": 36,
   "metadata": {},
   "outputs": [
    {
     "data": {
      "text/plain": [
       "'http://vip.stock.finance.sina.com.cn/corp/go.php/vMS_FuQuanMarketHistory/stockid/000546.phtml?year=2018&jidu=4'"
      ]
     },
     "execution_count": 36,
     "metadata": {},
     "output_type": "execute_result"
    }
   ],
   "source": [
    "url"
   ]
  },
  {
   "cell_type": "code",
   "execution_count": 37,
   "metadata": {
    "collapsed": true
   },
   "outputs": [],
   "source": [
    "request = Request(url)\n",
    "text = urlopen(request, timeout=10).read()\n",
    "text = text.decode('GBK')"
   ]
  },
  {
   "cell_type": "code",
   "execution_count": 38,
   "metadata": {
    "collapsed": true
   },
   "outputs": [],
   "source": [
    "html = lxml.html.parse(StringIO(text))"
   ]
  },
  {
   "cell_type": "code",
   "execution_count": 39,
   "metadata": {
    "collapsed": true
   },
   "outputs": [],
   "source": [
    "res = html.xpath('//table[@id=\\\"FundHoldSharesTable\\\"]')"
   ]
  },
  {
   "cell_type": "code",
   "execution_count": 40,
   "metadata": {
    "collapsed": true
   },
   "outputs": [],
   "source": [
    "if ct.PY3:\n",
    "    sarr = [etree.tostring(node).decode('utf-8') for node in res]\n",
    "else:\n",
    "    sarr = [etree.tostring(node) for node in res]\n",
    "sarr = ''.join(sarr)"
   ]
  },
  {
   "cell_type": "code",
   "execution_count": 41,
   "metadata": {
    "collapsed": true
   },
   "outputs": [],
   "source": [
    "df = pd.read_html(sarr, skiprows = [0, 1])[0]"
   ]
  },
  {
   "cell_type": "code",
   "execution_count": 42,
   "metadata": {},
   "outputs": [
    {
     "name": "stderr",
     "output_type": "stream",
     "text": [
      "D:\\Anaconda3\\lib\\site-packages\\pandas\\core\\internals.py:3457: FutureWarning: Passing in 'datetime64' dtype with no frequency is deprecated and will raise in a future version. Please pass in 'datetime64[ns]' instead.\n",
      "  return self.apply('astype', dtype=dtype, **kwargs)\n"
     ]
    }
   ],
   "source": [
    "if len(df) == 0:\n",
    "      pd.DataFrame()\n",
    "if index:\n",
    "     df.columns = ct.HIST_FQ_COLS[0:7]\n",
    "else:\n",
    "     df.columns = ct.HIST_FQ_COLS\n",
    "if df['date'].dtypes == np.object:\n",
    "     df['date'] = df['date'].astype(np.datetime64)\n",
    "df = df.drop_duplicates('date')"
   ]
  },
  {
   "cell_type": "code",
   "execution_count": 43,
   "metadata": {
    "scrolled": true
   },
   "outputs": [
    {
     "name": "stderr",
     "output_type": "stream",
     "text": [
      "D:\\Anaconda3\\lib\\site-packages\\pandas\\core\\internals.py:3457: FutureWarning: Passing in 'datetime64' dtype with no frequency is deprecated and will raise in a future version. Please pass in 'datetime64[ns]' instead.\n",
      "  return self.apply('astype', dtype=dtype, **kwargs)\n"
     ]
    }
   ],
   "source": [
    "data = _parse_fq_data(url, index,retry_count, pause)"
   ]
  },
  {
   "cell_type": "code",
   "execution_count": 44,
   "metadata": {
    "collapsed": true
   },
   "outputs": [],
   "source": [
    "if index:\n",
    "        url = ct.HIST_INDEX_URL%(ct.P_TYPE['http'], ct.DOMAINS['vsf'],\n",
    "                             code, qt[0], qt[1])\n",
    "else:\n",
    "        url = ct.HIST_FQ_URL%(ct.P_TYPE['http'], ct.DOMAINS['vsf'],\n",
    "                              code, qt[0], qt[1])"
   ]
  },
  {
   "cell_type": "code",
   "execution_count": 45,
   "metadata": {},
   "outputs": [
    {
     "data": {
      "text/plain": [
       "'http://vip.stock.finance.sina.com.cn/corp/go.php/vMS_FuQuanMarketHistory/stockid/000546.phtml?year=2018&jidu=4'"
      ]
     },
     "execution_count": 45,
     "metadata": {},
     "output_type": "execute_result"
    }
   ],
   "source": [
    "url"
   ]
  },
  {
   "cell_type": "code",
   "execution_count": 46,
   "metadata": {},
   "outputs": [
    {
     "name": "stdout",
     "output_type": "stream",
     "text": [
      "##"
     ]
    },
    {
     "name": "stderr",
     "output_type": "stream",
     "text": [
      "D:\\Anaconda3\\lib\\site-packages\\pandas\\core\\internals.py:3457: FutureWarning: Passing in 'datetime64' dtype with no frequency is deprecated and will raise in a future version. Please pass in 'datetime64[ns]' instead.\n",
      "  return self.apply('astype', dtype=dtype, **kwargs)\n"
     ]
    },
    {
     "name": "stdout",
     "output_type": "stream",
     "text": [
      "##"
     ]
    }
   ],
   "source": [
    "if data is None:\n",
    "     data = pd.DataFrame()\n",
    "if len(qs)>1:\n",
    "    for d in range(1, len(qs)):\n",
    "        qt = qs[d]\n",
    "        ct._write_console()\n",
    "        df = _parse_fq_data(_get_index_url(index, code, qt), index,\n",
    "                                retry_count, pause)"
   ]
  },
  {
   "cell_type": "code",
   "execution_count": 47,
   "metadata": {
    "collapsed": true
   },
   "outputs": [],
   "source": [
    "import os\n",
    "import re\n",
    "import numbers\n",
    "import collections\n",
    "import warnings\n",
    "\n",
    "from distutils.version import LooseVersion\n",
    "\n",
    "import numpy as np\n",
    "\n",
    "from pandas.io.common import _is_url, urlopen, parse_url\n",
    "from pandas.io.parsers import TextParser\n",
    "from pandas.compat import (lrange, lmap, u, string_types, iteritems,\n",
    "                           raise_with_traceback, binary_type)\n",
    "from pandas.core import common as com\n",
    "from pandas import Series\n",
    "\n",
    "\n",
    "try:\n",
    "    import bs4\n",
    "except ImportError:\n",
    "    _HAS_BS4 = False\n",
    "else:\n",
    "    _HAS_BS4 = True\n",
    "\n",
    "\n",
    "try:\n",
    "    import lxml\n",
    "except ImportError:\n",
    "    _HAS_LXML = False\n",
    "else:\n",
    "    _HAS_LXML = True\n",
    "\n",
    "\n",
    "try:\n",
    "    import html5lib\n",
    "except ImportError:\n",
    "    _HAS_HTML5LIB = False\n",
    "else:\n",
    "    _HAS_HTML5LIB = True"
   ]
  },
  {
   "cell_type": "code",
   "execution_count": 48,
   "metadata": {},
   "outputs": [
    {
     "data": {
      "text/plain": [
       "True"
      ]
     },
     "execution_count": 48,
     "metadata": {},
     "output_type": "execute_result"
    }
   ],
   "source": [
    "_HAS_LXML"
   ]
  },
  {
   "cell_type": "code",
   "execution_count": 49,
   "metadata": {},
   "outputs": [
    {
     "data": {
      "text/plain": [
       "True"
      ]
     },
     "execution_count": 49,
     "metadata": {},
     "output_type": "execute_result"
    }
   ],
   "source": [
    "_HAS_BS4"
   ]
  },
  {
   "cell_type": "code",
   "execution_count": 50,
   "metadata": {},
   "outputs": [
    {
     "data": {
      "text/plain": [
       "True"
      ]
     },
     "execution_count": 50,
     "metadata": {},
     "output_type": "execute_result"
    }
   ],
   "source": [
    "_HAS_HTML5LIB"
   ]
  },
  {
   "cell_type": "code",
   "execution_count": 51,
   "metadata": {
    "collapsed": true
   },
   "outputs": [],
   "source": [
    "import bs4"
   ]
  },
  {
   "cell_type": "code",
   "execution_count": 52,
   "metadata": {
    "collapsed": true
   },
   "outputs": [],
   "source": [
    "import html5lib"
   ]
  },
  {
   "cell_type": "markdown",
   "metadata": {
    "collapsed": true
   },
   "source": [
    "### 任务\n",
    "\n",
    "寻找连续N天上涨的标的，起点3天；上涨定义为收盘价大于开盘价"
   ]
  },
  {
   "cell_type": "code",
   "execution_count": null,
   "metadata": {
    "collapsed": true
   },
   "outputs": [],
   "source": []
  }
 ],
 "metadata": {
  "anaconda-cloud": {},
  "kernelspec": {
   "display_name": "Python 3",
   "language": "python",
   "name": "python3"
  },
  "language_info": {
   "codemirror_mode": {
    "name": "ipython",
    "version": 3
   },
   "file_extension": ".py",
   "mimetype": "text/x-python",
   "name": "python",
   "nbconvert_exporter": "python",
   "pygments_lexer": "ipython3",
   "version": "3.7.1"
  }
 },
 "nbformat": 4,
 "nbformat_minor": 1
}
