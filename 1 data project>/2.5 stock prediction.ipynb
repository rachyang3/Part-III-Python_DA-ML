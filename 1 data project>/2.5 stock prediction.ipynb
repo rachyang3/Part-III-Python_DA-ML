{
 "cells": [
  {
   "cell_type": "code",
   "execution_count": 7,
   "metadata": {},
   "outputs": [],
   "source": [
    "import tushare as ts\n",
    "import talib as ta\n",
    "import os,time,sys,re,datetime\n",
    "import pandas as pd\n",
    "import numpy as np\n",
    "import sqlalchemy\n",
    "from sqlalchemy import create_engine\n",
    "import datetime as dt"
   ]
  },
  {
   "cell_type": "code",
   "execution_count": 8,
   "metadata": {},
   "outputs": [],
   "source": [
    "df = ts.get_today_all()"
   ]
  },
  {
   "cell_type": "code",
   "execution_count": 9,
   "metadata": {},
   "outputs": [],
   "source": [
    "df.head()"
   ]
  },
  {
   "cell_type": "code",
   "execution_count": 10,
   "metadata": {},
   "outputs": [],
   "source": [
    "try:\n",
    "    engine = create_engine('postgresql://' + 'postgres' + ':' + 'wangLee.' + '@localhost:5432/' + 'stock')\n",
    "    c = engine.connect()\n",
    "    conn = c.connection\n",
    "except Exception as e:\n",
    "    print('engine err!')"
   ]
  },
  {
   "cell_type": "code",
   "execution_count": 11,
   "metadata": {},
   "outputs": [],
   "source": [
    "# 1)获得更新的所有标的数据\n",
    "def getstock():\n",
    "    df = ts.get_today_all()   #获取当日标的所有交易数据\n",
    "    df = df[['code', 'name', 'open', 'high', 'trade', 'low', 'volume', 'amount']]\n",
    "    df =df.set_index('code')\n",
    "    df = df.sort_index()\n",
    "    \n",
    "    return df\n",
    "\n",
    "# 2）、获取单只标的交易数据\n",
    "def Get_Stock_Trade(code, conn):\n",
    "    try:\n",
    "        sql = \"SELECT date,low,volume FROM _trade where code='\" + code + \"'\"\n",
    "        df = pd.read_sql(sql, conn)\n",
    "        df = df.set_index('date')\n",
    "        df = df.sort_index()\n",
    "\n",
    "    except Exception as e:\n",
    "        print(code, 'sql err!')\n",
    "\n",
    "    return df\n",
    "\n",
    "\n",
    "# 3)获取构造均价、均量、MACD数据\n",
    "def Get_Stock_ma_vol(df_Code,date=None):\n",
    "    print(\"starting.....\")\n",
    "    sql_list=[]\n",
    "    no_arreay = []\n",
    "    slen=df_Code.shape[0]\n",
    "    i = 1\n",
    "\n",
    "    for code,row in df_Code.iterrows():\n",
    "        open,high,low,close,volume,amount = row[1:7]\n",
    "        print(str(i)+\"/\"+str(slen)+\",\"+code),\n",
    "        i = i + 1\n",
    "\n",
    "        try:\n",
    "            df = Get_Stock_Trade(code, conn)  #获取标的之前的交易数据，以便于今日数据合并\n",
    "            # your codes ，发现标的无记录，有的code在你的数据库表中无记录\n",
    "             \n",
    "                \n",
    "\n",
    "        except Exception as e:\n",
    "            print(code + 'trade err!')\n",
    "            continue\n",
    "\n",
    "        dflen = df.shape[0]\n",
    "\n",
    "        #在历史交易df中加入今日的新记录\n",
    "        if date is None:\n",
    "            TODAY = dt.date.today()\n",
    "            date=TODAY.strftime('%Y-%m-%d')\n",
    "            \n",
    "        new = pd.DataFrame('your codes')\n",
    "        df=df.append(new)\n",
    "        \n",
    "        # your codes  构造成交价和成交量均线\n",
    "\n",
    "\n",
    "      \n",
    "        # your code 构造MACD\n",
    "\n",
    "\n",
    "        \n",
    "        sqls = []\n",
    "        \n",
    "        #print(code, date, open, high, low, close, volume, amount, macd, macdsignal, macdhist,ma5,ma25,vol5,vol60)\n",
    "        sql = \"insert into _trade(code,date,open,high,close,low,volume,amount,macd,macdsignal,macdhist,\"\\\n",
    "        \"ma5,ma25,vol5,vol60) values('%s','%s','%.2f','%.2f','%.2f','%.2f','%d','%d','%.3f','%.3f',\"\\\n",
    "\"'%.3f','%.2f','%.2f','%d','%d')\" % (code, date, open, high, low, close, volume, amount, macd, macdsignal, macdhist,ma5,ma25,vol5,vol60)\n",
    "        \n",
    "        sqls.append(sql)\n",
    "\n",
    "        Insert_Stock_Trade(sqls, engine) ##追加数据库\n",
    "        \n",
    "    conn.close()\n",
    "    print(\"End!\")\n",
    "    return no_arreay\n",
    "\n",
    "def Insert_Stock_Trade(sqls, engine):\n",
    "    try:\n",
    "        for insert_sql in sqls:\n",
    "            engine.execute(insert_sql)\n",
    "            #print(insert_sql)\n",
    "    except Exception as e:\n",
    "        print('sql err!')\n",
    "\n",
    "    return df\n"
   ]
  },
  {
   "cell_type": "code",
   "execution_count": 12,
   "metadata": {},
   "outputs": [],
   "source": [
    "#调用各函数，完成每日数据更新\n",
    "#your codes\n"
   ]
  },
  {
   "cell_type": "markdown",
   "metadata": {},
   "source": [
    "### 任务列表\n",
    "1、利用MACD数据判断底背离与顶背离，_trade表中最好包含所有标的的交易数据<br>\n",
    "2、从_trade表中发现5日均量大于60日均量，25日均价线保持上升的标的<br>\n",
    "3、利用 _trade 表数据制作透视表，使用数据框的pivot_table函数<br>\n",
    "4、{一维Series，二维DataFrame，三维Panel，Panel中的每一项（类似于DataFrame的列）都是一个DataFrame}，利用 _trade表进行面板数据分析<br>\n",
    "5、利用 _trade 表进行分组groupby（），交叉表crosstab的应用<br>\n",
    "6、pandas 统计函数的应用<br>\n",
    "\n",
    "count               非NA值的数量\n",
    "describe            针对Series或各DataFrame列计算汇总统计\n",
    "min,max             计算最小值和最大值\n",
    "argmin,argmax       计算能够获取到最小值和最大值的索引位置（整数)\n",
    "idxmin,idxmax       计算能够获取到最小值和最大值的索引值\n",
    "quantile            计算样本的分位数（0到 1）\n",
    "sum                 值的总和\n",
    "mean                值的平均数， a.mean() 默认对每一列的数据求平均值；若加上参数a.mean(1)则对每一行求平均值\n",
    "media               值的算术中位数（50%分位数)\n",
    "mad                 根据平均值计算平均绝对离差\n",
    "var                 样本值的方差\n",
    "std                 样本值的标准差\n",
    "skew                样本值的偏度（三阶矩）\n",
    "kurt                样本值的峰度（四阶矩）\n",
    "cumsum              样本值的累计和\n",
    "cummin,cummax       样本值的累计最大值和累计最小\n",
    "cumprod             样本值的累计积\n",
    "diff                计算一阶差分（对时间序列很有用)\n",
    "pct_change          计算百分数变化"
   ]
  },
  {
   "cell_type": "markdown",
   "metadata": {},
   "source": [
    "### 透视表应用示例"
   ]
  },
  {
   "cell_type": "code",
   "execution_count": 13,
   "metadata": {},
   "outputs": [],
   "source": [
    "#透视表  通过两张表_trade,_basic\n",
    "date='2017-02-20'\n",
    "sql = \"SELECT A.date,A.code,A.low,A.volume,B.industry,B.area FROM _trade A,_basic B where A.code=B.code and A.date>='\" + date + \"'\"\n",
    "df = pd.read_sql(sql, conn)\n",
    "df = df.set_index('date')\n",
    "df = df.sort_index()"
   ]
  },
  {
   "cell_type": "code",
   "execution_count": 14,
   "metadata": {},
   "outputs": [],
   "source": [
    "df.head()"
   ]
  },
  {
   "cell_type": "code",
   "execution_count": 15,
   "metadata": {},
   "outputs": [],
   "source": [
    "tb=pd.pivot_table(df,values='volume',index=['industry'],columns=['area'], aggfunc=np.sum)"
   ]
  },
  {
   "cell_type": "code",
   "execution_count": 16,
   "metadata": {},
   "outputs": [],
   "source": [
    "tb"
   ]
  },
  {
   "cell_type": "code",
   "execution_count": null,
   "metadata": {
    "collapsed": true
   },
   "outputs": [],
   "source": []
  }
 ],
 "metadata": {
  "kernelspec": {
   "display_name": "Python 3",
   "language": "python",
   "name": "python3"
  },
  "language_info": {
   "codemirror_mode": {
    "name": "ipython",
    "version": 3
   },
   "file_extension": ".py",
   "mimetype": "text/x-python",
   "name": "python",
   "nbconvert_exporter": "python",
   "pygments_lexer": "ipython3",
   "version": "3.7.1"
  }
 },
 "nbformat": 4,
 "nbformat_minor": 1
}
